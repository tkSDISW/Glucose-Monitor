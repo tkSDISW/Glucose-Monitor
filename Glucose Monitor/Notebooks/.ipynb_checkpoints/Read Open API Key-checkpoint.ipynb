{
 "cells": [
  {
   "cell_type": "code",
   "execution_count": 2,
   "id": "34f9f277-e63f-4aff-9da0-d4e8af5492b4",
   "metadata": {},
   "outputs": [
    {
     "name": "stdout",
     "output_type": "stream",
     "text": [
      "API Key retrieved successfully.\n"
     ]
    }
   ],
   "source": [
    "from pathlib import Path\n",
    "\n",
    "# Get the user's home directory\n",
    "home_dir = Path.home()\n",
    "\n",
    "# Define the file path\n",
    "key_file = home_dir / \".secrets\" / \"openai_api_key.txt\"\n",
    "\n",
    "# Retrieve the API key\n",
    "if key_file.exists():\n",
    "    with key_file.open(\"r\") as f:\n",
    "        api_key = f.read().strip()\n",
    "    print(\"API Key retrieved successfully.\")\n",
    "else:\n",
    "    print(f\"API Key file not found at {key_file}. Please save it first.\")"
   ]
  },
  {
   "cell_type": "code",
   "execution_count": null,
   "id": "db977421-a5fe-4081-b95d-54f08af73cd6",
   "metadata": {},
   "outputs": [],
   "source": []
  },
  {
   "cell_type": "code",
   "execution_count": null,
   "id": "480c0b28-2276-41a3-8f6e-89577888c59a",
   "metadata": {},
   "outputs": [],
   "source": []
  }
 ],
 "metadata": {
  "kernelspec": {
   "display_name": "Python 3 (ipykernel)",
   "language": "python",
   "name": "python3"
  },
  "language_info": {
   "codemirror_mode": {
    "name": "ipython",
    "version": 3
   },
   "file_extension": ".py",
   "mimetype": "text/x-python",
   "name": "python",
   "nbconvert_exporter": "python",
   "pygments_lexer": "ipython3",
   "version": "3.11.7"
  }
 },
 "nbformat": 4,
 "nbformat_minor": 5
}
